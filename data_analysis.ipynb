{
 "cells": [
  {
   "cell_type": "code",
   "execution_count": null,
   "id": "efe557ca",
   "metadata": {},
   "outputs": [],
   "source": [
    "# Version 1.2\n",
    "import pandas as pd\n",
    "import numpy as np\n",
    "import matplotlib as plt\n",
    "import matplotlib.pyplot as plt\n",
    "import seaborn as sns\n",
    "\n",
    "import re #Module expressions régulières pour modifier certaines colones"
   ]
  },
  {
   "cell_type": "markdown",
   "id": "79633f6a",
   "metadata": {},
   "source": [
    "## Partie 1: Ouverture et étude des données"
   ]
  },
  {
   "cell_type": "markdown",
   "id": "a9092e46",
   "metadata": {},
   "source": [
    "### Ouverture et étude des données"
   ]
  },
  {
   "cell_type": "code",
   "execution_count": null,
   "id": "3712bba2",
   "metadata": {},
   "outputs": [],
   "source": [
    "laptop_data = pd.read_csv(r'laptops.csv', sep=\",\", index_col=12, encoding='latin1') #J'ai modifié l'index pour la mettre sur le prix"
   ]
  },
  {
   "cell_type": "code",
   "execution_count": null,
   "id": "4054480c",
   "metadata": {},
   "outputs": [],
   "source": [
    "laptop_data.head()"
   ]
  },
  {
   "cell_type": "code",
   "execution_count": null,
   "id": "b9f7b3d0",
   "metadata": {},
   "outputs": [],
   "source": [
    "laptop_data.shape"
   ]
  },
  {
   "cell_type": "code",
   "execution_count": null,
   "id": "f4ed896b",
   "metadata": {},
   "outputs": [],
   "source": [
    "laptop_data.dtypes"
   ]
  },
  {
   "cell_type": "code",
   "execution_count": null,
   "id": "88c18ccd",
   "metadata": {},
   "outputs": [],
   "source": [
    "laptop_data.loc['499,00']"
   ]
  },
  {
   "cell_type": "code",
   "execution_count": null,
   "id": "6aaeae4c",
   "metadata": {},
   "outputs": [],
   "source": [
    "laptop_data['ID'] = range(1, len(laptop_data) + 1)"
   ]
  },
  {
   "cell_type": "code",
   "execution_count": null,
   "id": "fe2488c3",
   "metadata": {},
   "outputs": [],
   "source": [
    "#Modifications sur le dataset afin de le rendre exploitable pour analyse\n",
    "\n",
    "#On convertit les valeurs de la catégorie et de l'OS en chiffre\n",
    "\n",
    "print((laptop_data['Category'].unique()))\n",
    "\n",
    "laptop_data.Category[laptop_data.Category == 'Ultrabook'] = 1\n",
    "laptop_data.Category[laptop_data.Category == 'Notebook'] = 2\n",
    "laptop_data.Category[laptop_data.Category == 'Netbook'] = 3\n",
    "laptop_data.Category[laptop_data.Category == 'Gaming'] = 4\n",
    "laptop_data.Category[laptop_data.Category == '2 in 1 Convertible'] = 5\n",
    "laptop_data.Category[laptop_data.Category == 'Workstation'] = 6\n",
    "\n",
    "laptop_data.rename(columns = {'Operating System':'OperatingSystem'}, inplace = True)\n",
    "print((laptop_data['OperatingSystem'].unique()))\n",
    "\n",
    "laptop_data.OperatingSystem[laptop_data.OperatingSystem== 'macOS'] = 1\n",
    "laptop_data.OperatingSystem[laptop_data.OperatingSystem== 'No OS'] = 2\n",
    "laptop_data.OperatingSystem[laptop_data.OperatingSystem== 'Windows'] = 3\n",
    "laptop_data.OperatingSystem[laptop_data.OperatingSystem== 'Mac OS'] = 4\n",
    "laptop_data.OperatingSystem[laptop_data.OperatingSystem== 'Linux'] = 5\n",
    "laptop_data.OperatingSystem[laptop_data.OperatingSystem== 'Android'] = 6\n",
    "laptop_data.OperatingSystem[laptop_data.OperatingSystem== 'Chrome OS'] = 7\n",
    "\n",
    "print((laptop_data['Manufacturer'].unique()))\n",
    "\n",
    "laptop_data.Manufacturer[laptop_data.Manufacturer== 'Apple'] = 1\n",
    "laptop_data.Manufacturer[laptop_data.Manufacturer== 'HP'] = 2\n",
    "laptop_data.Manufacturer[laptop_data.Manufacturer== 'Acer'] = 3\n",
    "laptop_data.Manufacturer[laptop_data.Manufacturer== 'Asus'] = 4\n",
    "laptop_data.Manufacturer[laptop_data.Manufacturer== 'Dell'] = 5\n",
    "laptop_data.Manufacturer[laptop_data.Manufacturer== 'Lenovo'] = 6\n",
    "laptop_data.Manufacturer[laptop_data.Manufacturer== 'Chuwi'] = 7\n",
    "laptop_data.Manufacturer[laptop_data.Manufacturer== 'MSI'] = 8\n",
    "laptop_data.Manufacturer[laptop_data.Manufacturer== 'Microsoft'] = 9\n",
    "laptop_data.Manufacturer[laptop_data.Manufacturer== 'Toshiba'] = 10\n",
    "laptop_data.Manufacturer[laptop_data.Manufacturer== 'Huawei'] = 11\n",
    "laptop_data.Manufacturer[laptop_data.Manufacturer== 'Xiaomi'] = 12\n",
    "laptop_data.Manufacturer[laptop_data.Manufacturer== 'Vero'] = 13\n",
    "laptop_data.Manufacturer[laptop_data.Manufacturer== 'Razer'] = 14\n",
    "laptop_data.Manufacturer[laptop_data.Manufacturer== 'Mediacom'] = 15\n",
    "laptop_data.Manufacturer[laptop_data.Manufacturer== 'Samsung'] = 16\n",
    "laptop_data.Manufacturer[laptop_data.Manufacturer== 'Google'] = 17\n",
    "laptop_data.Manufacturer[laptop_data.Manufacturer== 'Fujitsu'] = 18\n",
    "laptop_data.Manufacturer[laptop_data.Manufacturer== 'LG'] = 19"
   ]
  },
  {
   "cell_type": "code",
   "execution_count": null,
   "id": "397bfd67",
   "metadata": {},
   "outputs": [],
   "source": [
    "gpu_mapping = {}  # Dictionnaire pour mapper les fabricants aux numéros\n",
    "gpu = laptop_data['GPU'].unique()\n",
    "cpu_mapping = {}\n",
    "cpu = laptop_data['CPU'].unique()\n",
    "\n",
    "for i, gpu in enumerate(gpu, start=1):\n",
    "    gpu_mapping[gpu] = i\n",
    "\n",
    "for i, cpu in enumerate(cpu, start=1):\n",
    "    cpu_mapping[cpu] = i\n",
    "\n",
    "laptop_data['GPU'] = laptop_data['GPU'].map(gpu_mapping)\n",
    "\n",
    "laptop_data['CPU'] = laptop_data['CPU'].map(cpu_mapping)\n"
   ]
  },
  {
   "cell_type": "code",
   "execution_count": null,
   "id": "7c97f2d7",
   "metadata": {},
   "outputs": [],
   "source": [
    "#On supprime les colones inexploitables\n",
    "laptop_data = laptop_data.drop('Model Name', axis=1)\n",
    "laptop_data = laptop_data.drop('Operating System Version', axis=1)\n",
    "\n",
    "#On supprime les unités à la fin de la colone Weight, Screen Size et RAM\n",
    "laptop_data['Weight'] = laptop_data['Weight'].str.replace('kg', '').str.replace('s', '').astype(float)\n",
    "\n",
    "laptop_data.rename(columns = {'Screen Size':'ScreenSize'}, inplace = True)\n",
    "laptop_data['ScreenSize'] = laptop_data['ScreenSize'].str.replace('\"', '').astype(float)\n",
    "\n",
    "laptop_data['RAM'] = laptop_data['RAM'].str.replace('GB', '').str.replace('s', '').astype(float)\n",
    "\n",
    "#Pour la colone ScreenSize, on supprime tout ce qu'il y a avant la taille avec re (module d'expressions régulières)\n",
    "laptop_data['Screen'] = laptop_data['Screen'].apply(lambda x: re.findall('\\d{4}x\\d{4}|\\d{4}x\\d{3}', x)[0] if isinstance(x, str) else x)\n",
    "#Ensuite on sépare la première taille de la deuxième\n",
    "laptop_data['Screen'] = laptop_data['Screen'].str.split('x', n=1)\n",
    "#Ensuite on fait la multiplication afin d'avoir un seul chiffre\n",
    "laptop_data['Screen'] = laptop_data['Screen'].apply(lambda x: int(x[0]) * int(x[1]) if isinstance(x, list) and len(x) == 2 else x)"
   ]
  },
  {
   "cell_type": "code",
   "execution_count": null,
   "id": "a5981d17",
   "metadata": {},
   "outputs": [],
   "source": [
    "print (laptop_data[' Storage'].unique())"
   ]
  },
  {
   "cell_type": "code",
   "execution_count": null,
   "id": "7d66194a",
   "metadata": {},
   "outputs": [],
   "source": [
    "laptop_data[' StorageType'] = laptop_data[' Storage'].str.replace('.*GB', '', regex=True)\n",
    "print (laptop_data[' StorageType'].unique())"
   ]
  },
  {
   "cell_type": "code",
   "execution_count": null,
   "id": "6c1d777b",
   "metadata": {},
   "outputs": [],
   "source": [
    "storagetype_mapping = {} \n",
    "storagetype = laptop_data[' StorageType'].unique()\n",
    "\n",
    "for i, storage in enumerate(storagetype, start=1):\n",
    "    storagetype_mapping[storage] = i\n",
    "\n",
    "laptop_data[' StorageType'] = laptop_data[' StorageType'].map(storagetype_mapping)"
   ]
  },
  {
   "cell_type": "code",
   "execution_count": null,
   "id": "9bdc3fae",
   "metadata": {},
   "outputs": [],
   "source": [
    "Storage_mapping = {\n",
    "    '256GB SSD': 256,\n",
    "    '1TB HDD': 1000,\n",
    "    '500GB HDD': 500,\n",
    "    '512GB SSD': 512,\n",
    "    '128GB SSD +  1TB HDD': 128 + 1000,\n",
    "    '128GB SSD': 128,\n",
    "    '256GB SSD +  1TB HDD': 256 + 1000,\n",
    "    '32GB Flash Storage': 32,\n",
    "    '2TB HDD': 2000,\n",
    "    '64GB Flash Storage': 64,\n",
    "    '512GB SSD +  1TB HDD': 512 + 1000,\n",
    "    '1TB SSD': 1000,\n",
    "    '256GB SSD +  2TB HDD': 256 + 2000,\n",
    "    '1TB Hybrid': 1000,\n",
    "    '256GB Flash Storage': 256,\n",
    "    '16GB Flash Storage': 16,\n",
    "    '32GB SSD': 32,\n",
    "    '1GB SSD': 1,\n",
    "    '128GB Flash Storage': 128,\n",
    "    '512GB SSD +  2TB HDD': 512 + 2000,\n",
    "    '16GB SSD': 16,\n",
    "    '128GB SSD +  2TB HDD': 128 + 2000,\n",
    "    '1TB SSD +  1TB HDD': 1000 + 1000,\n",
    "    '256GB SSD +  500GB HDD': 256 + 500,\n",
    "    '512GB Flash Storage': 512,\n",
    "    '256GB SSD +  256GB SSD': 256 + 256,\n",
    "    '512GB SSD +  512GB SSD': 512 + 512,\n",
    "    '8GB SSD': 8,\n",
    "    '64GB Flash Storage +  1TB HDD': 64 + 1000,\n",
    "    '256GB SSD +  1TB Hybrid': 256 + 1000,\n",
    "    '128GB HDD': 128,\n",
    "    '1TB HDD +  1TB HDD': 1000 + 1000,\n",
    "    '240GB SSD': 240,\n",
    "    '32GB HDD': 32,\n",
    "    '64GB SSD': 64,\n",
    "    '512GB SSD +  1TB Hybrid': 512 + 1000,\n",
    "    '508GB Hybrid': 508,\n",
    "    '512GB SSD +  256GB SSD': 512 + 256\n",
    "}\n",
    "\n",
    "laptop_data[' Storage'] = laptop_data[' Storage'].replace(Storage_mapping)"
   ]
  },
  {
   "cell_type": "code",
   "execution_count": null,
   "id": "fb7a22b2",
   "metadata": {},
   "outputs": [],
   "source": [
    "#laptop_data['Weight'] = laptop_data['Weight'].astype(int)"
   ]
  },
  {
   "cell_type": "code",
   "execution_count": null,
   "id": "96dfa4ad",
   "metadata": {},
   "outputs": [],
   "source": [
    "laptop_data.head(20)"
   ]
  }
 ],
 "metadata": {
  "kernelspec": {
   "display_name": "Python 3 (ipykernel)",
   "language": "python",
   "name": "python3"
  },
  "language_info": {
   "codemirror_mode": {
    "name": "ipython",
    "version": 3
   },
   "file_extension": ".py",
   "mimetype": "text/x-python",
   "name": "python",
   "nbconvert_exporter": "python",
   "pygments_lexer": "ipython3",
   "version": "3.9.18"
  }
 },
 "nbformat": 4,
 "nbformat_minor": 5
}
